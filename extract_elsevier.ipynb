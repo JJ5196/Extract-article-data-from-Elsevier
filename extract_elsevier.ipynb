{
 "cells": [
  {
   "cell_type": "code",
   "execution_count": 1,
   "metadata": {
    "collapsed": true
   },
   "outputs": [],
   "source": [
    "import requests, re, os, time, pickle\n",
    "import pandas as pd"
   ]
  },
  {
   "cell_type": "code",
   "execution_count": 2,
   "metadata": {
    "collapsed": true
   },
   "outputs": [],
   "source": [
    "keywords = '''artificial intelligence'''\n",
    "APIkey = ''"
   ]
  },
  {
   "cell_type": "code",
   "execution_count": 3,
   "metadata": {
    "collapsed": true
   },
   "outputs": [],
   "source": [
    "current_time = time.asctime()\n",
    "current_time = current_time.replace(\"  \",\"_\")\n",
    "current_time = current_time.replace(\" \",\"_\")\n",
    "current_time = current_time.replace(\":\",\"_\")"
   ]
  },
  {
   "cell_type": "code",
   "execution_count": 4,
   "metadata": {
    "collapsed": false
   },
   "outputs": [
    {
     "data": {
      "text/plain": [
       "<os._wrap_close at 0x10eaad240>"
      ]
     },
     "execution_count": 4,
     "metadata": {},
     "output_type": "execute_result"
    }
   ],
   "source": [
    "os.popen(\"mkdir \"+current_time)"
   ]
  },
  {
   "cell_type": "code",
   "execution_count": 5,
   "metadata": {
    "collapsed": false
   },
   "outputs": [],
   "source": [
    "def extract_metadata(keywords,APIkey):\n",
    "    textdata =pd.DataFrame()\n",
    "    start = 1\n",
    "    count =100\n",
    "    idx = 1\n",
    "    while True:\n",
    "        url = 'http://api.elsevier.com/content/search/index:SCIDIR?query='+keywords+'&count='+str(count)+\"&start=\"+str(start)\n",
    "        temp_df,num_results = extract_article_info(url,start,APIkey)\n",
    "        if num_results == -1:\n",
    "            break\n",
    "        textdata=textdata.append(temp_df,ignore_index=True)\n",
    "        if num_results<count:\n",
    "            print(\"last page\")\n",
    "            break\n",
    "        else:\n",
    "            start = start+ 100 \n",
    "        break\n",
    "            \n",
    "    return textdata"
   ]
  },
  {
   "cell_type": "code",
   "execution_count": 6,
   "metadata": {
    "collapsed": true
   },
   "outputs": [],
   "source": [
    "def extract_article_info(url,start,APIkey):\n",
    "    intextdata =pd.DataFrame()\n",
    "    resp = requests.get(url,headers={'Accept':'application/json','X-ELS-APIKey':APIkey})\n",
    "    results = resp.json()\n",
    "    num_results = 0\n",
    "    identifier_set = []\n",
    "    \n",
    "    try:\n",
    "        num_results = len(results['search-results']['entry'])\n",
    "        for idx in range(0,num_results):\n",
    "            try:\n",
    "                identifier_set.append(results['search-results']['entry'][idx]['dc:identifier'])\n",
    "            except:\n",
    "                pass\n",
    "        print(round(100*len(identifier_set)/num_results,2),'% of results from',start,\"~\",start+num_results-1,'can be accessed')\n",
    "    except:\n",
    "        print(\"No entry is found, you may need to change the keywords\")\n",
    "        return -1,-1\n",
    "    idx=0\n",
    "    for identifier in identifier_set[:5]:\n",
    "        try:\n",
    "            try:\n",
    "                resp_info = requests.get(\"http://api.elsevier.com/content/article/\"+identifier+\"?&view=FULL\",\n",
    "                                headers={'Accept':'application/json',\n",
    "                                         'X-ELS-APIKey': APIkey})\n",
    "                results_info = resp_info.json()\n",
    "                _ = results_info[\"full-text-retrieval-response\"][\"coredata\"][\"dc:title\"]\n",
    "            except:\n",
    "                resp_info = requests.get(\"http://api.elsevier.com/content/article/\"+identifier,\n",
    "                    headers={'Accept':'application/json',\n",
    "                         'X-ELS-APIKey': APIkey})\n",
    "                results_info = resp_info.json()\n",
    "                _ = results_info[\"full-text-retrieval-response\"][\"coredata\"][\"dc:title\"]\n",
    "\n",
    "\n",
    "\n",
    "            if (idx+start)%1==0:\n",
    "                print(idx+start,\"papers are extracted\")\n",
    "\n",
    "            ### number of citation ###\n",
    "            try:\n",
    "                resp_c = requests.get(\"http://api.elsevier.com/content/search/index:SCOPUS?query=DOI(\"+identifier[4:]+\")&field=citedby-count\",\n",
    "                        headers={'X-ELS-APIKey': APIkey})\n",
    "                results_c = resp_c.json()\n",
    "                cv = results_c['search-results']['entry']\n",
    "                cc = cv[0]['citedby-count']\n",
    "            except:\n",
    "                cc = 0\n",
    "\n",
    "            ### title ###\n",
    "            try:        \n",
    "                title=results_info[\"full-text-retrieval-response\"][\"coredata\"][\"dc:title\"]\n",
    "            except:\n",
    "                title=\"not provided\"\n",
    "\n",
    "            ### date of publication ###\n",
    "            try:        \n",
    "                date=results_info[\"full-text-retrieval-response\"][\"coredata\"][\"prism:coverDate\"]\n",
    "            except:\n",
    "                date=\"not provided\"\n",
    "\n",
    "            ### authors ###    \n",
    "            try:\n",
    "                authors=[]\n",
    "                for x in range(0,len(results_info[\"full-text-retrieval-response\"][\"coredata\"]['dc:creator'])):\n",
    "                    authors.append(results_info[\"full-text-retrieval-response\"][\"coredata\"]['dc:creator'][x]['$'])\n",
    "            except:\n",
    "                authors=\"not provided\"\n",
    "\n",
    "            ### Author provided keywords ###\n",
    "            try:\n",
    "                apk=[]\n",
    "                for x in range(0,len(results_info[\"full-text-retrieval-response\"][\"coredata\"]['dcterms:subject'])):\n",
    "                    apk.append(results_info[\"full-text-retrieval-response\"][\"coredata\"]['dcterms:subject'][x]['$'])\n",
    "            except:\n",
    "                apk=\"not provided\"\n",
    "\n",
    "            ### journal/book name ###\n",
    "            try:        \n",
    "                journal=results_info[\"full-text-retrieval-response\"][\"coredata\"]['prism:publicationName']\n",
    "            except:\n",
    "                journal=\"not provided\"\n",
    "\n",
    "            ### type of publication ###\n",
    "            try:        \n",
    "                jtype=results_info[\"full-text-retrieval-response\"][\"coredata\"]['prism:aggregationType']\n",
    "            except:\n",
    "                jtype=\"not provided\"\n",
    "\n",
    "            ### abstract ###    \n",
    "            try:        \n",
    "                abst=results_info[\"full-text-retrieval-response\"][\"coredata\"]['dc:description']\n",
    "            except:\n",
    "                abst=\"not provided\"\n",
    "\n",
    "            # links for the paper\n",
    "            try:\n",
    "                links = results_info['full-text-retrieval-response']['coredata']['prism:url']\n",
    "            except:\n",
    "                links = \"not provided\"\n",
    "\n",
    "            ### full body ###\n",
    "            try:\n",
    "                full_body = results_info['full-text-retrieval-response']['originalText'].split(results_info['full-text-retrieval-response']['coredata']['dc:description'])[-1]\n",
    "            except:\n",
    "                full_body = \"not provided\"\n",
    "            f = open(current_time+'/'+str(idx+start)+'.txt','w')\n",
    "            f.write(full_body)\n",
    "            f.close()\n",
    "\n",
    "\n",
    "            intextdata=intextdata.append({'DOI':identifier,'title':title,'date':date,'authors':authors,\n",
    "                    'keywords':apk,'journal_or_book_name':journal,\n",
    "                    'journal_type':jtype,'abstract':abst,\"citation_count\":int(cc),\"paper_id\":int(idx+start),\"link\":links},ignore_index=True)\n",
    "            idx+=1\n",
    "        except:\n",
    "            print(idx,\": full review failed\")\n",
    "    \n",
    "    return intextdata,num_results"
   ]
  },
  {
   "cell_type": "code",
   "execution_count": 7,
   "metadata": {
    "collapsed": false
   },
   "outputs": [
    {
     "name": "stdout",
     "output_type": "stream",
     "text": [
      "100.0 % of results from 1 ~ 100 can be accessed\n",
      "1 papers are extracted\n",
      "2 papers are extracted\n",
      "3 papers are extracted\n",
      "4 papers are extracted\n",
      "5 papers are extracted\n"
     ]
    }
   ],
   "source": [
    "textdata = extract_metadata(keywords,APIkey)"
   ]
  },
  {
   "cell_type": "code",
   "execution_count": 10,
   "metadata": {
    "collapsed": false,
    "scrolled": true
   },
   "outputs": [
    {
     "data": {
      "text/html": [
       "<div>\n",
       "<table border=\"1\" class=\"dataframe\">\n",
       "  <thead>\n",
       "    <tr style=\"text-align: right;\">\n",
       "      <th></th>\n",
       "      <th>DOI</th>\n",
       "      <th>abstract</th>\n",
       "      <th>authors</th>\n",
       "      <th>citation_count</th>\n",
       "      <th>date</th>\n",
       "      <th>journal_or_book_name</th>\n",
       "      <th>journal_type</th>\n",
       "      <th>keywords</th>\n",
       "      <th>link</th>\n",
       "      <th>paper_id</th>\n",
       "      <th>title</th>\n",
       "    </tr>\n",
       "  </thead>\n",
       "  <tbody>\n",
       "    <tr>\n",
       "      <th>0</th>\n",
       "      <td>DOI:10.1016/j.ymssp.2018.02.016</td>\n",
       "      <td>\\n               Abstract\\n               \\n  ...</td>\n",
       "      <td>[Liu, Ruonan, Yang, Boyuan, Zio, Enrico, Chen,...</td>\n",
       "      <td>0.0</td>\n",
       "      <td>2018-08-31</td>\n",
       "      <td>Mechanical Systems and Signal Processing</td>\n",
       "      <td>Journal</td>\n",
       "      <td>[Artificial intelligence, Fault diagnosis, \\n ...</td>\n",
       "      <td>http://api.elsevier.com/content/article/pii/S0...</td>\n",
       "      <td>1.0</td>\n",
       "      <td>Artificial intelligence for fault diagnosis of...</td>\n",
       "    </tr>\n",
       "    <tr>\n",
       "      <th>1</th>\n",
       "      <td>DOI:10.1016/j.osn.2017.12.006</td>\n",
       "      <td>Abstract Artificial intelligence (AI) is an ex...</td>\n",
       "      <td>[Mata, Javier, de Miguel, Ignacio, Durán, Ramó...</td>\n",
       "      <td>0.0</td>\n",
       "      <td>2018-04-30</td>\n",
       "      <td>Optical Switching and Networking</td>\n",
       "      <td>Journal</td>\n",
       "      <td>[Artificial intelligence, Machine learning, Op...</td>\n",
       "      <td>http://api.elsevier.com/content/article/pii/S1...</td>\n",
       "      <td>2.0</td>\n",
       "      <td>Artificial intelligence (AI) methods in optica...</td>\n",
       "    </tr>\n",
       "    <tr>\n",
       "      <th>2</th>\n",
       "      <td>DOI:10.1016/j.engappai.2017.12.011</td>\n",
       "      <td>\\n               Abstract\\n               \\n  ...</td>\n",
       "      <td>[Elmishali, Amir, Stern, Roni, Kalech, Meir]</td>\n",
       "      <td>0.0</td>\n",
       "      <td>2018-03-31</td>\n",
       "      <td>Engineering Applications of Artificial Intelli...</td>\n",
       "      <td>Journal</td>\n",
       "      <td>[Artificial Intelligence, Automated diagnosis,...</td>\n",
       "      <td>http://api.elsevier.com/content/article/pii/S0...</td>\n",
       "      <td>3.0</td>\n",
       "      <td>An Artificial Intelligence paradigm for troubl...</td>\n",
       "    </tr>\n",
       "    <tr>\n",
       "      <th>3</th>\n",
       "      <td>DOI:10.1016/j.clinimag.2017.11.007</td>\n",
       "      <td>\\n               Abstract\\n               \\n  ...</td>\n",
       "      <td>[Mayo, Ray Cody, Leung, Jessica]</td>\n",
       "      <td>0.0</td>\n",
       "      <td>2018-06-30</td>\n",
       "      <td>Clinical Imaging</td>\n",
       "      <td>Journal</td>\n",
       "      <td>[Artificial intelligence, Deep learning, Big d...</td>\n",
       "      <td>http://api.elsevier.com/content/article/pii/S0...</td>\n",
       "      <td>4.0</td>\n",
       "      <td>Artificial intelligence and deep learning – Ra...</td>\n",
       "    </tr>\n",
       "    <tr>\n",
       "      <th>4</th>\n",
       "      <td>DOI:10.1016/j.eap.2017.12.006</td>\n",
       "      <td>\\n               Abstract\\n               \\n  ...</td>\n",
       "      <td>[Fujii, Hidemichi, Managi, Shunsuke]</td>\n",
       "      <td>0.0</td>\n",
       "      <td>2018-06-30</td>\n",
       "      <td>Economic Analysis and Policy</td>\n",
       "      <td>Journal</td>\n",
       "      <td>[Artificial intelligence, Patent decomposition...</td>\n",
       "      <td>http://api.elsevier.com/content/article/pii/S0...</td>\n",
       "      <td>5.0</td>\n",
       "      <td>Trends and priority shifts in artificial intel...</td>\n",
       "    </tr>\n",
       "  </tbody>\n",
       "</table>\n",
       "</div>"
      ],
      "text/plain": [
       "                                  DOI  \\\n",
       "0     DOI:10.1016/j.ymssp.2018.02.016   \n",
       "1       DOI:10.1016/j.osn.2017.12.006   \n",
       "2  DOI:10.1016/j.engappai.2017.12.011   \n",
       "3  DOI:10.1016/j.clinimag.2017.11.007   \n",
       "4       DOI:10.1016/j.eap.2017.12.006   \n",
       "\n",
       "                                            abstract  \\\n",
       "0  \\n               Abstract\\n               \\n  ...   \n",
       "1  Abstract Artificial intelligence (AI) is an ex...   \n",
       "2  \\n               Abstract\\n               \\n  ...   \n",
       "3  \\n               Abstract\\n               \\n  ...   \n",
       "4  \\n               Abstract\\n               \\n  ...   \n",
       "\n",
       "                                             authors  citation_count  \\\n",
       "0  [Liu, Ruonan, Yang, Boyuan, Zio, Enrico, Chen,...             0.0   \n",
       "1  [Mata, Javier, de Miguel, Ignacio, Durán, Ramó...             0.0   \n",
       "2       [Elmishali, Amir, Stern, Roni, Kalech, Meir]             0.0   \n",
       "3                   [Mayo, Ray Cody, Leung, Jessica]             0.0   \n",
       "4               [Fujii, Hidemichi, Managi, Shunsuke]             0.0   \n",
       "\n",
       "         date                               journal_or_book_name journal_type  \\\n",
       "0  2018-08-31           Mechanical Systems and Signal Processing      Journal   \n",
       "1  2018-04-30                   Optical Switching and Networking      Journal   \n",
       "2  2018-03-31  Engineering Applications of Artificial Intelli...      Journal   \n",
       "3  2018-06-30                                   Clinical Imaging      Journal   \n",
       "4  2018-06-30                       Economic Analysis and Policy      Journal   \n",
       "\n",
       "                                            keywords  \\\n",
       "0  [Artificial intelligence, Fault diagnosis, \\n ...   \n",
       "1  [Artificial intelligence, Machine learning, Op...   \n",
       "2  [Artificial Intelligence, Automated diagnosis,...   \n",
       "3  [Artificial intelligence, Deep learning, Big d...   \n",
       "4  [Artificial intelligence, Patent decomposition...   \n",
       "\n",
       "                                                link  paper_id  \\\n",
       "0  http://api.elsevier.com/content/article/pii/S0...       1.0   \n",
       "1  http://api.elsevier.com/content/article/pii/S1...       2.0   \n",
       "2  http://api.elsevier.com/content/article/pii/S0...       3.0   \n",
       "3  http://api.elsevier.com/content/article/pii/S0...       4.0   \n",
       "4  http://api.elsevier.com/content/article/pii/S0...       5.0   \n",
       "\n",
       "                                               title  \n",
       "0  Artificial intelligence for fault diagnosis of...  \n",
       "1  Artificial intelligence (AI) methods in optica...  \n",
       "2  An Artificial Intelligence paradigm for troubl...  \n",
       "3  Artificial intelligence and deep learning – Ra...  \n",
       "4  Trends and priority shifts in artificial intel...  "
      ]
     },
     "execution_count": 10,
     "metadata": {},
     "output_type": "execute_result"
    }
   ],
   "source": [
    "textdata.head()"
   ]
  },
  {
   "cell_type": "code",
   "execution_count": 9,
   "metadata": {
    "collapsed": false
   },
   "outputs": [],
   "source": [
    "pickle.dump(textdata,open( current_time+'/extracted_data.p', \"wb\" ))"
   ]
  },
  {
   "cell_type": "code",
   "execution_count": null,
   "metadata": {
    "collapsed": true
   },
   "outputs": [],
   "source": []
  },
  {
   "cell_type": "code",
   "execution_count": null,
   "metadata": {
    "collapsed": true
   },
   "outputs": [],
   "source": []
  }
 ],
 "metadata": {
  "kernelspec": {
   "display_name": "Python 3",
   "language": "python",
   "name": "python3"
  },
  "language_info": {
   "codemirror_mode": {
    "name": "ipython",
    "version": 3
   },
   "file_extension": ".py",
   "mimetype": "text/x-python",
   "name": "python",
   "nbconvert_exporter": "python",
   "pygments_lexer": "ipython3",
   "version": "3.6.0"
  }
 },
 "nbformat": 4,
 "nbformat_minor": 2
}
