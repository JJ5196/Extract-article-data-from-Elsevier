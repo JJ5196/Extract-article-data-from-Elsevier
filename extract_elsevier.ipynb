{
 "cells": [
  {
   "cell_type": "code",
   "execution_count": null,
   "metadata": {},
   "outputs": [],
   "source": [
    "import requests, re, os, time, pickle\n",
    "import pandas as pd"
   ]
  },
  {
   "cell_type": "code",
   "execution_count": null,
   "metadata": {},
   "outputs": [],
   "source": [
    "keywords = ''''''\n",
    "APIkey = ''"
   ]
  },
  {
   "cell_type": "code",
   "execution_count": null,
   "metadata": {},
   "outputs": [],
   "source": [
    "extractedData =pd.DataFrame()\n",
    "page = 1\n",
    "count =25"
   ]
  },
  {
   "cell_type": "code",
   "execution_count": null,
   "metadata": {},
   "outputs": [],
   "source": [
    "\n",
    "while True:\n",
    "    url = 'https://api.elsevier.com/content/search/scopus?start={}&count={}&query={}'.format(page,count,keywords)\n",
    "    resp = requests.get(url,headers={'Accept':'application/json','X-ELS-APIKey':APIkey})\n",
    "    results = resp.json()\n",
    "    if 'service-error' in results:\n",
    "        break\n",
    "        \n",
    "    \n",
    "    for article in results['search-results']['entry']:\n",
    "        apk=None\n",
    "        abst=None\n",
    "        identifier=article['dc:identifier']\n",
    "\n",
    "\n",
    "        basicInfoURL=article['prism:url']\n",
    "        results_info = requests.get(basicInfoURL,headers={'Accept':'application/json','X-ELS-APIKey':APIkey})\n",
    "        results_info = results_info.json()\n",
    "        coredata = results_info['abstracts-retrieval-response']['coredata']\n",
    "        authors=[author['ce:indexed-name'] for author in coredata['dc:creator']['author']]\n",
    "        citation=coredata['citedby-count']\n",
    "\n",
    "        fullInfoURL=\"https://api.elsevier.com/content/article/\"+identifier\n",
    "        resp_info = requests.get(fullInfoURL,headers={'Accept':'application/json','X-ELS-APIKey': APIkey})\n",
    "        results_info = resp_info.json()\n",
    "        \n",
    "        if 'full-text-retrieval-response' in results_info:\n",
    "            coredata = results_info[\"full-text-retrieval-response\"][\"coredata\"]\n",
    "            apk=[kw['$'] for kw in coredata['dcterms:subject']]\n",
    "            abst=coredata['dc:description']\n",
    "            authors=[author['$'] for author in coredata['dc:creator']]\n",
    "                \n",
    "        keyID=coredata['dc:identifier']\n",
    "        title=coredata['dc:title']\n",
    "        publishDate=coredata['prism:coverDate']\n",
    "        location=coredata['prism:publicationName']\n",
    "        articleType=coredata['prism:aggregationType']\n",
    "        \n",
    "\n",
    "        extractedData=extractedData.append({'keyID':keyID,'title':title,'date':publishDate,'authors':authors,\n",
    "                        'keywords':apk,'journal_or_book_name':location,\n",
    "                        'article_type':articleType,'abstract':abst,\"citation_count\":int(citation)},ignore_index=True)\n",
    "\n",
    "    \n",
    "    pickle.dump(extractedData,open('extractedData.p', \"wb\" ))\n",
    "    print('{} articles are extracted | page {}'.format(extractedData.shape[0],page))\n",
    "    page+=1\n",
    "\n",
    "extractedData=extractedData[['keyID','title','date','authors','keywords','journal_or_book_name','article_type','citation_count','abstract']]"
   ]
  },
  {
   "cell_type": "code",
   "execution_count": null,
   "metadata": {},
   "outputs": [],
   "source": [
    "extractedData.head()"
   ]
  },
  {
   "cell_type": "code",
   "execution_count": null,
   "metadata": {},
   "outputs": [],
   "source": []
  },
  {
   "cell_type": "code",
   "execution_count": null,
   "metadata": {},
   "outputs": [],
   "source": []
  }
 ],
 "metadata": {
  "kernelspec": {
   "display_name": "Python 3",
   "language": "python",
   "name": "python3"
  },
  "language_info": {
   "codemirror_mode": {
    "name": "ipython",
    "version": 3
   },
   "file_extension": ".py",
   "mimetype": "text/x-python",
   "name": "python",
   "nbconvert_exporter": "python",
   "pygments_lexer": "ipython3",
   "version": "3.7.5"
  }
 },
 "nbformat": 4,
 "nbformat_minor": 2
}
