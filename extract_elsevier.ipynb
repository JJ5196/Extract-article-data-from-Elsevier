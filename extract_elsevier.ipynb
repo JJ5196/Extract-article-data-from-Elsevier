{
 "cells": [
  {
   "cell_type": "code",
   "execution_count": 1,
   "metadata": {
    "collapsed": true
   },
   "outputs": [],
   "source": [
    "import requests, re, os, time, pickle\n",
    "import pandas as pd"
   ]
  },
  {
   "cell_type": "code",
   "execution_count": 2,
   "metadata": {
    "collapsed": true
   },
   "outputs": [],
   "source": [
    "keywords = '''queueing AND service interruption'''\n",
    "APIkey = ''"
   ]
  },
  {
   "cell_type": "code",
   "execution_count": 3,
   "metadata": {
    "collapsed": true
   },
   "outputs": [],
   "source": [
    "current_time = time.asctime()\n",
    "current_time = current_time.replace(\"  \",\"_\")\n",
    "current_time = current_time.replace(\" \",\"_\")\n",
    "current_time = current_time.replace(\":\",\"_\")"
   ]
  },
  {
   "cell_type": "code",
   "execution_count": 4,
   "metadata": {
    "collapsed": false
   },
   "outputs": [
    {
     "data": {
      "text/plain": [
       "<os._wrap_close at 0x10bbb50b8>"
      ]
     },
     "execution_count": 4,
     "metadata": {},
     "output_type": "execute_result"
    }
   ],
   "source": [
    "os.popen(\"mkdir \"+current_time)"
   ]
  },
  {
   "cell_type": "code",
   "execution_count": 5,
   "metadata": {
    "collapsed": false
   },
   "outputs": [],
   "source": [
    "def extract_metadata(keywords,APIkey):\n",
    "    textdata =pd.DataFrame()\n",
    "    start = 1\n",
    "    count =100\n",
    "    idx = 1\n",
    "    while True:\n",
    "        url = 'http://api.elsevier.com/content/search/index:SCIDIR?query='+keywords+'&count='+str(count)+\"&start=\"+str(start)\n",
    "        temp_df,num_results = extract_article_info(url,start,APIkey)\n",
    "        if num_results == -1:\n",
    "            break\n",
    "        textdata=textdata.append(temp_df,ignore_index=True)\n",
    "        if num_results<count:\n",
    "            print(\"last page\")\n",
    "            break\n",
    "        else:\n",
    "            start = start+ 100 \n",
    "            \n",
    "    return textdata"
   ]
  },
  {
   "cell_type": "code",
   "execution_count": 6,
   "metadata": {
    "collapsed": true
   },
   "outputs": [],
   "source": [
    "def extract_article_info(url,start,APIkey):\n",
    "    intextdata =pd.DataFrame()\n",
    "    resp = requests.get(url,headers={'Accept':'application/json','X-ELS-APIKey':APIkey})\n",
    "    results = resp.json()\n",
    "    num_results = 0\n",
    "    identifier_set = []\n",
    "    \n",
    "    try:\n",
    "        num_results = len(results['search-results']['entry'])\n",
    "        for idx in range(0,num_results):\n",
    "            try:\n",
    "                identifier_set.append(results['search-results']['entry'][idx]['dc:identifier'])\n",
    "            except:\n",
    "                pass\n",
    "        print(round(100*len(identifier_set)/num_results,2),'% of results from',start,\"~\",start+num_results-1,'can be accessed')\n",
    "    except:\n",
    "        print(\"No entry is found, you may need to change the keywords\")\n",
    "        return -1,-1\n",
    "    idx=0\n",
    "    for identifier in identifier_set:\n",
    "        try:\n",
    "            try:\n",
    "                resp_info = requests.get(\"http://api.elsevier.com/content/article/\"+identifier+\"?&view=FULL\",\n",
    "                                headers={'Accept':'application/json',\n",
    "                                         'X-ELS-APIKey': APIkey})\n",
    "                results_info = resp_info.json()\n",
    "                _ = results_info[\"full-text-retrieval-response\"][\"coredata\"][\"dc:title\"]\n",
    "            except:\n",
    "                resp_info = requests.get(\"http://api.elsevier.com/content/article/\"+identifier,\n",
    "                    headers={'Accept':'application/json',\n",
    "                         'X-ELS-APIKey': APIkey})\n",
    "                results_info = resp_info.json()\n",
    "                _ = results_info[\"full-text-retrieval-response\"][\"coredata\"][\"dc:title\"]\n",
    "\n",
    "            if (idx+start)%50==0:\n",
    "                print(idx+start,\"papers are extracted\")\n",
    "\n",
    "            ### number of citation ###\n",
    "            try:\n",
    "                resp_c = requests.get(\"http://api.elsevier.com/content/search/index:SCOPUS?query=DOI(\"+identifier[4:]+\")&field=citedby-count\",\n",
    "                        headers={'X-ELS-APIKey': APIkey})\n",
    "                results_c = resp_c.json()\n",
    "                cv = results_c['search-results']['entry']\n",
    "                cc = cv[0]['citedby-count']\n",
    "            except:\n",
    "                cc = 0\n",
    "\n",
    "            ### title ###\n",
    "            try:        \n",
    "                title=results_info[\"full-text-retrieval-response\"][\"coredata\"][\"dc:title\"]\n",
    "            except:\n",
    "                title=\"not provided\"\n",
    "\n",
    "            ### date of publication ###\n",
    "            try:        \n",
    "                date=results_info[\"full-text-retrieval-response\"][\"coredata\"][\"prism:coverDate\"]\n",
    "            except:\n",
    "                date=\"not provided\"\n",
    "\n",
    "            ### authors ###    \n",
    "            try:\n",
    "                authors=[]\n",
    "                for x in range(0,len(results_info[\"full-text-retrieval-response\"][\"coredata\"]['dc:creator'])):\n",
    "                    authors.append(results_info[\"full-text-retrieval-response\"][\"coredata\"]['dc:creator'][x]['$'])\n",
    "            except:\n",
    "                authors=\"not provided\"\n",
    "\n",
    "            ### Author provided keywords ###\n",
    "            try:\n",
    "                apk=[]\n",
    "                for x in range(0,len(results_info[\"full-text-retrieval-response\"][\"coredata\"]['dcterms:subject'])):\n",
    "                    apk.append(results_info[\"full-text-retrieval-response\"][\"coredata\"]['dcterms:subject'][x]['$'])\n",
    "            except:\n",
    "                apk=\"not provided\"\n",
    "\n",
    "            ### journal/book name ###\n",
    "            try:        \n",
    "                journal=results_info[\"full-text-retrieval-response\"][\"coredata\"]['prism:publicationName']\n",
    "            except:\n",
    "                journal=\"not provided\"\n",
    "\n",
    "            ### type of publication ###\n",
    "            try:        \n",
    "                jtype=results_info[\"full-text-retrieval-response\"][\"coredata\"]['prism:aggregationType']\n",
    "            except:\n",
    "                jtype=\"not provided\"\n",
    "\n",
    "            ### abstract ###    \n",
    "            try:        \n",
    "                abst=results_info[\"full-text-retrieval-response\"][\"coredata\"]['dc:description']\n",
    "            except:\n",
    "                abst=\"not provided\"\n",
    "\n",
    "            # links for the paper\n",
    "            try:\n",
    "                links = results_info['full-text-retrieval-response']['coredata']['prism:url']\n",
    "            except:\n",
    "                links = \"not provided\"\n",
    "\n",
    "            ### full body ###\n",
    "            try:\n",
    "                full_body = results_info['full-text-retrieval-response']['originalText'].split(results_info['full-text-retrieval-response']['coredata']['dc:description'])[-1]\n",
    "            except:\n",
    "                full_body = \"not provided\"\n",
    "            f = open(current_time+'/'+str(idx+start)+'.txt','w')\n",
    "            f.write(full_body)\n",
    "            f.close()\n",
    "\n",
    "\n",
    "            intextdata=intextdata.append({'DOI':identifier,'title':title,'date':date,'authors':authors,\n",
    "                    'keywords':apk,'journal_or_book_name':journal,\n",
    "                    'journal_type':jtype,'abstract':abst,\"citation_count\":int(cc),\"paper_id\":int(idx+start),\"link\":links},ignore_index=True)\n",
    "            idx+=1\n",
    "        except:\n",
    "            print(idx,\": full review failed\")\n",
    "    \n",
    "    return intextdata,num_results"
   ]
  },
  {
   "cell_type": "code",
   "execution_count": null,
   "metadata": {
    "collapsed": false
   },
   "outputs": [],
   "source": [
    "textdata = extract_metadata(keywords,APIkey)"
   ]
  },
  {
   "cell_type": "code",
   "execution_count": 9,
   "metadata": {
    "collapsed": false
   },
   "outputs": [],
   "source": [
    "pickle.dump(textdata,open( current_time+'/extracted_data.p', \"wb\" ))"
   ]
  },
  {
   "cell_type": "code",
   "execution_count": 11,
   "metadata": {
    "collapsed": false
   },
   "outputs": [
    {
     "data": {
      "text/html": [
       "<div>\n",
       "<table border=\"1\" class=\"dataframe\">\n",
       "  <thead>\n",
       "    <tr style=\"text-align: right;\">\n",
       "      <th></th>\n",
       "      <th>DOI</th>\n",
       "      <th>abstract</th>\n",
       "      <th>authors</th>\n",
       "      <th>citation_count</th>\n",
       "      <th>date</th>\n",
       "      <th>journal_or_book_name</th>\n",
       "      <th>journal_type</th>\n",
       "      <th>keywords</th>\n",
       "      <th>link</th>\n",
       "      <th>paper_id</th>\n",
       "      <th>title</th>\n",
       "    </tr>\n",
       "  </thead>\n",
       "  <tbody>\n",
       "    <tr>\n",
       "      <th>0</th>\n",
       "      <td>DOI:10.1016/j.asej.2014.02.003</td>\n",
       "      <td>Abstract This paper deals with the steady stat...</td>\n",
       "      <td>[Rajadurai, P., Saravanarajan, M.C., Chandrase...</td>\n",
       "      <td>14.0</td>\n",
       "      <td>2014-09-30</td>\n",
       "      <td>Ain Shams Engineering Journal</td>\n",
       "      <td>Journal</td>\n",
       "      <td>[Two types of service, Re-service, Modified va...</td>\n",
       "      <td>http://api.elsevier.com/content/article/pii/S2...</td>\n",
       "      <td>1.0</td>\n",
       "      <td>Analysis of an M[X]/(G1,G2)/1 retrial queueing...</td>\n",
       "    </tr>\n",
       "    <tr>\n",
       "      <th>1</th>\n",
       "      <td>DOI:10.1016/j.mcm.2011.03.037</td>\n",
       "      <td>Abstract Motivated by a congestion problem ari...</td>\n",
       "      <td>[Yu, Miaomiao, Tang, Yinghui, Fu, Yonghong, Pa...</td>\n",
       "      <td>7.0</td>\n",
       "      <td>2011-09-30</td>\n",
       "      <td>Mathematical and Computer Modelling</td>\n",
       "      <td>Journal</td>\n",
       "      <td>[Service interruption, No damage, Space to acc...</td>\n",
       "      <td>http://api.elsevier.com/content/article/pii/S0...</td>\n",
       "      <td>2.0</td>\n",
       "      <td>An M / E k / 1 queueing system with no damage ...</td>\n",
       "    </tr>\n",
       "    <tr>\n",
       "      <th>2</th>\n",
       "      <td>DOI:10.1016/j.peva.2011.07.002</td>\n",
       "      <td>\\n               Abstract\\n               \\n  ...</td>\n",
       "      <td>[Morozov, Evsey, Fiems, Dieter, Bruneel, Herwig]</td>\n",
       "      <td>12.0</td>\n",
       "      <td>2011-12-31</td>\n",
       "      <td>Performance Evaluation</td>\n",
       "      <td>Journal</td>\n",
       "      <td>[Queueing theory, Server interruptions, Stabil...</td>\n",
       "      <td>http://api.elsevier.com/content/article/pii/S0...</td>\n",
       "      <td>3.0</td>\n",
       "      <td>Stability analysis of multiserver discrete-tim...</td>\n",
       "    </tr>\n",
       "    <tr>\n",
       "      <th>3</th>\n",
       "      <td>DOI:10.1016/j.ejor.2007.05.010</td>\n",
       "      <td>\\n               Abstract\\n               \\n  ...</td>\n",
       "      <td>[Fiems, Dieter, Maertens, Tom, Bruneel, Herwig]</td>\n",
       "      <td>30.0</td>\n",
       "      <td>2008-08-01</td>\n",
       "      <td>European Journal of Operational Research</td>\n",
       "      <td>Journal</td>\n",
       "      <td>[Queueing theory, Server interruptions, Server...</td>\n",
       "      <td>http://api.elsevier.com/content/article/pii/S0...</td>\n",
       "      <td>4.0</td>\n",
       "      <td>Queueing systems with different types of serve...</td>\n",
       "    </tr>\n",
       "    <tr>\n",
       "      <th>4</th>\n",
       "      <td>DOI:10.1016/j.camwa.2009.06.021</td>\n",
       "      <td>Abstract This paper deals with the steady-stat...</td>\n",
       "      <td>[Choudhury, Gautam, Tadj, Lotfi, Deka, Kandarpa]</td>\n",
       "      <td>31.0</td>\n",
       "      <td>2010-01-31</td>\n",
       "      <td>Computers &amp; Mathematics with Applications</td>\n",
       "      <td>Journal</td>\n",
       "      <td>[Stationary distribution, Random breakdown, Se...</td>\n",
       "      <td>http://api.elsevier.com/content/article/pii/S0...</td>\n",
       "      <td>5.0</td>\n",
       "      <td>A batch arrival retrial queueing system with t...</td>\n",
       "    </tr>\n",
       "  </tbody>\n",
       "</table>\n",
       "</div>"
      ],
      "text/plain": [
       "                               DOI  \\\n",
       "0   DOI:10.1016/j.asej.2014.02.003   \n",
       "1    DOI:10.1016/j.mcm.2011.03.037   \n",
       "2   DOI:10.1016/j.peva.2011.07.002   \n",
       "3   DOI:10.1016/j.ejor.2007.05.010   \n",
       "4  DOI:10.1016/j.camwa.2009.06.021   \n",
       "\n",
       "                                            abstract  \\\n",
       "0  Abstract This paper deals with the steady stat...   \n",
       "1  Abstract Motivated by a congestion problem ari...   \n",
       "2  \\n               Abstract\\n               \\n  ...   \n",
       "3  \\n               Abstract\\n               \\n  ...   \n",
       "4  Abstract This paper deals with the steady-stat...   \n",
       "\n",
       "                                             authors  citation_count  \\\n",
       "0  [Rajadurai, P., Saravanarajan, M.C., Chandrase...            14.0   \n",
       "1  [Yu, Miaomiao, Tang, Yinghui, Fu, Yonghong, Pa...             7.0   \n",
       "2   [Morozov, Evsey, Fiems, Dieter, Bruneel, Herwig]            12.0   \n",
       "3    [Fiems, Dieter, Maertens, Tom, Bruneel, Herwig]            30.0   \n",
       "4   [Choudhury, Gautam, Tadj, Lotfi, Deka, Kandarpa]            31.0   \n",
       "\n",
       "         date                       journal_or_book_name journal_type  \\\n",
       "0  2014-09-30              Ain Shams Engineering Journal      Journal   \n",
       "1  2011-09-30        Mathematical and Computer Modelling      Journal   \n",
       "2  2011-12-31                     Performance Evaluation      Journal   \n",
       "3  2008-08-01   European Journal of Operational Research      Journal   \n",
       "4  2010-01-31  Computers & Mathematics with Applications      Journal   \n",
       "\n",
       "                                            keywords  \\\n",
       "0  [Two types of service, Re-service, Modified va...   \n",
       "1  [Service interruption, No damage, Space to acc...   \n",
       "2  [Queueing theory, Server interruptions, Stabil...   \n",
       "3  [Queueing theory, Server interruptions, Server...   \n",
       "4  [Stationary distribution, Random breakdown, Se...   \n",
       "\n",
       "                                                link  paper_id  \\\n",
       "0  http://api.elsevier.com/content/article/pii/S2...       1.0   \n",
       "1  http://api.elsevier.com/content/article/pii/S0...       2.0   \n",
       "2  http://api.elsevier.com/content/article/pii/S0...       3.0   \n",
       "3  http://api.elsevier.com/content/article/pii/S0...       4.0   \n",
       "4  http://api.elsevier.com/content/article/pii/S0...       5.0   \n",
       "\n",
       "                                               title  \n",
       "0  Analysis of an M[X]/(G1,G2)/1 retrial queueing...  \n",
       "1  An M / E k / 1 queueing system with no damage ...  \n",
       "2  Stability analysis of multiserver discrete-tim...  \n",
       "3  Queueing systems with different types of serve...  \n",
       "4  A batch arrival retrial queueing system with t...  "
      ]
     },
     "execution_count": 11,
     "metadata": {},
     "output_type": "execute_result"
    }
   ],
   "source": [
    "textdata.head()"
   ]
  },
  {
   "cell_type": "code",
   "execution_count": null,
   "metadata": {
    "collapsed": true
   },
   "outputs": [],
   "source": []
  },
  {
   "cell_type": "code",
   "execution_count": null,
   "metadata": {
    "collapsed": true
   },
   "outputs": [],
   "source": []
  }
 ],
 "metadata": {
  "kernelspec": {
   "display_name": "Python 3",
   "language": "python",
   "name": "python3"
  },
  "language_info": {
   "codemirror_mode": {
    "name": "ipython",
    "version": 3
   },
   "file_extension": ".py",
   "mimetype": "text/x-python",
   "name": "python",
   "nbconvert_exporter": "python",
   "pygments_lexer": "ipython3",
   "version": "3.6.0"
  }
 },
 "nbformat": 4,
 "nbformat_minor": 2
}
