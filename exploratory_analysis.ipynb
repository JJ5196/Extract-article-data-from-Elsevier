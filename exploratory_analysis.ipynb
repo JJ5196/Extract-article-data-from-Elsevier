{
 "cells": [
  {
   "cell_type": "code",
   "execution_count": null,
   "metadata": {},
   "outputs": [],
   "source": [
    "import pandas as pd\n",
    "import pickle\n",
    "import numpy as np"
   ]
  },
  {
   "cell_type": "code",
   "execution_count": null,
   "metadata": {},
   "outputs": [],
   "source": [
    "import matplotlib.pyplot as plt"
   ]
  },
  {
   "cell_type": "code",
   "execution_count": null,
   "metadata": {},
   "outputs": [],
   "source": [
    "textdata = pickle.load(open('extractedData.p','rb'))"
   ]
  },
  {
   "cell_type": "code",
   "execution_count": null,
   "metadata": {},
   "outputs": [],
   "source": [
    "year = [i.split(\"-\")[0] for i in textdata['date']]\n",
    "textdata['year'] = year"
   ]
  },
  {
   "cell_type": "code",
   "execution_count": null,
   "metadata": {},
   "outputs": [],
   "source": [
    "len(textdata['year'])"
   ]
  },
  {
   "cell_type": "markdown",
   "metadata": {},
   "source": [
    "# number of papers w.r.t year"
   ]
  },
  {
   "cell_type": "code",
   "execution_count": null,
   "metadata": {},
   "outputs": [],
   "source": [
    "x1=textdata['year'].value_counts().sort_index().index\n",
    "x1=[int(i) for i in x1]\n",
    "y1=textdata['year'].value_counts().sort_index().values\n",
    "\n",
    "fig, ax = plt.subplots(figsize=(25,10))\n",
    "ax.bar(x1, y1, color='r')\n",
    "ax.set_xticks(np.array(x1))\n",
    "ax.set_xticklabels(x1,rotation=90,size=10)\n",
    "ax.set_title(\"yearly paper volumn\")\n",
    "plt.show()"
   ]
  },
  {
   "cell_type": "markdown",
   "metadata": {},
   "source": [
    "# number of papers w.r.t year (last 30 year)"
   ]
  },
  {
   "cell_type": "code",
   "execution_count": null,
   "metadata": {},
   "outputs": [],
   "source": [
    "x1=textdata['year'].value_counts().sort_index().index[-30:]\n",
    "x1=[int(i) for i in x1]\n",
    "y1=textdata['year'].value_counts().sort_index().values[-30:]\n",
    "\n",
    "fig, ax = plt.subplots(figsize=(15,10))\n",
    "ax.bar(x1, y1, color='r')\n",
    "ax.set_xticks(np.array(x1))\n",
    "ax.set_xticklabels(x1,rotation=90,size=15)\n",
    "ax.set_title(\"yearly paper volumn\")\n",
    "plt.show()"
   ]
  },
  {
   "cell_type": "markdown",
   "metadata": {},
   "source": [
    "# top 15 journals w.r.t number of papers"
   ]
  },
  {
   "cell_type": "code",
   "execution_count": null,
   "metadata": {},
   "outputs": [],
   "source": [
    "y1=textdata['journal_or_book_name'].value_counts().values[:15]\n",
    "x1=range(len(y1))\n",
    "fig, ax = plt.subplots(figsize=(15,5))\n",
    "ax.bar(x1, y1, color='r')\n",
    "ax.set_xticks(np.array(x1))\n",
    "ax.set_xticklabels(textdata['journal_or_book_name'].value_counts()[:15].index,rotation=90,size=10)\n",
    "plt.show()"
   ]
  },
  {
   "cell_type": "markdown",
   "metadata": {},
   "source": [
    "# top 10 journals w.r.t total number of citations"
   ]
  },
  {
   "cell_type": "code",
   "execution_count": null,
   "metadata": {},
   "outputs": [],
   "source": [
    "temp = textdata.groupby(['journal_or_book_name'])['citation_count'].mean()\n",
    "temp = pd.DataFrame(temp.sort_values(ascending=False))\n",
    "temp[:10]"
   ]
  },
  {
   "cell_type": "markdown",
   "metadata": {},
   "source": [
    "# top 10 journals w.r.t average number of citations"
   ]
  },
  {
   "cell_type": "code",
   "execution_count": null,
   "metadata": {},
   "outputs": [],
   "source": [
    "temp = textdata.groupby(['journal_or_book_name'])['citation_count'].sum()\n",
    "temp = pd.DataFrame(temp.sort_values(ascending=False))\n",
    "temp[:10]"
   ]
  },
  {
   "cell_type": "code",
   "execution_count": null,
   "metadata": {},
   "outputs": [],
   "source": [
    "authors = {}\n",
    "for idx,author_list in enumerate(textdata['authors']):\n",
    "    for author in author_list:\n",
    "        if author in authors:\n",
    "            if len(author)>1:\n",
    "                authors[author]['num_papers']+=1\n",
    "                authors[author]['total_citations']+=textdata['citation_count'][idx]\n",
    "                if textdata['citation_count'][idx]>authors[author]['citation']:\n",
    "                    authors[author]['most_cited_paper'] = textdata['title'][idx]\n",
    "        else:\n",
    "            if len(author)>1:\n",
    "                authors[author] = {'num_papers':1,'total_citations':textdata['citation_count'][idx],\\\n",
    "                                   \"most_cited_paper\":textdata['title'][idx],'citation':textdata['citation_count'][idx]}\n",
    "authors = pd.DataFrame(authors).T"
   ]
  },
  {
   "cell_type": "code",
   "execution_count": null,
   "metadata": {},
   "outputs": [],
   "source": [
    "authors['mean_citations'] = authors['total_citations']/authors['num_papers']"
   ]
  },
  {
   "cell_type": "markdown",
   "metadata": {},
   "source": [
    "# top 10 authors w.r.t total numebr of papers"
   ]
  },
  {
   "cell_type": "code",
   "execution_count": null,
   "metadata": {},
   "outputs": [],
   "source": [
    "authors.sort_values(['num_papers'],ascending=0)[:10]"
   ]
  },
  {
   "cell_type": "markdown",
   "metadata": {},
   "source": [
    "# top 10 authors w.r.t total numebr of citations"
   ]
  },
  {
   "cell_type": "code",
   "execution_count": null,
   "metadata": {},
   "outputs": [],
   "source": [
    "authors.sort_values(['total_citations'],ascending=0)[:10]"
   ]
  },
  {
   "cell_type": "markdown",
   "metadata": {},
   "source": [
    "# top 10 authors w.r.t average numebr of citations"
   ]
  },
  {
   "cell_type": "code",
   "execution_count": null,
   "metadata": {},
   "outputs": [],
   "source": [
    "authors.sort_values(['mean_citations'],ascending=0)[:10]"
   ]
  },
  {
   "cell_type": "code",
   "execution_count": null,
   "metadata": {},
   "outputs": [],
   "source": [
    "## removing authors only have one paper\n",
    "authors[authors['num_papers']>1].sort_values(['mean_citations'],ascending=0)[:10]"
   ]
  },
  {
   "cell_type": "markdown",
   "metadata": {},
   "source": [
    "# ... to be continued"
   ]
  },
  {
   "cell_type": "code",
   "execution_count": null,
   "metadata": {},
   "outputs": [],
   "source": []
  }
 ],
 "metadata": {
  "kernelspec": {
   "display_name": "Python 3",
   "language": "python",
   "name": "python3"
  },
  "language_info": {
   "codemirror_mode": {
    "name": "ipython",
    "version": 3
   },
   "file_extension": ".py",
   "mimetype": "text/x-python",
   "name": "python",
   "nbconvert_exporter": "python",
   "pygments_lexer": "ipython3",
   "version": "3.7.5"
  }
 },
 "nbformat": 4,
 "nbformat_minor": 2
}
